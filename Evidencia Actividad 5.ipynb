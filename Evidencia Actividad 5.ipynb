{
  "nbformat": 4,
  "nbformat_minor": 0,
  "metadata": {
    "colab": {
      "provenance": [],
      "mount_file_id": "1iKEm8tgWkb577Y2esvgdjSOln7aWz8dR",
      "authorship_tag": "ABX9TyOj3UBmDOQr9Japrps8nLxa",
      "include_colab_link": true
    },
    "kernelspec": {
      "name": "python3",
      "display_name": "Python 3"
    },
    "language_info": {
      "name": "python"
    }
  },
  "cells": [
    {
      "cell_type": "markdown",
      "metadata": {
        "id": "view-in-github",
        "colab_type": "text"
      },
      "source": [
        "<a href=\"https://colab.research.google.com/github/HendrikMonterrey/evidencias-entregas2039_101-HendrikMonterrey/blob/main/Evidencia%20Actividad%205.ipynb\" target=\"_parent\"><img src=\"https://colab.research.google.com/assets/colab-badge.svg\" alt=\"Open In Colab\"/></a>"
      ]
    },
    {
      "cell_type": "code",
      "source": [
        "path = '/content/antropometria-dataset-2.csv'"
      ],
      "metadata": {
        "id": "CInm6bZBdjsh"
      },
      "execution_count": null,
      "outputs": []
    },
    {
      "cell_type": "code",
      "execution_count": null,
      "metadata": {
        "colab": {
          "base_uri": "https://localhost:8080/"
        },
        "id": "JUd_nidhXH2Z",
        "outputId": "a85bff14-b801-4edf-b11a-f56c2f159bd3"
      },
      "outputs": [
        {
          "output_type": "stream",
          "name": "stdout",
          "text": [
            "        folio  intp  entidad                         desc_ent  sexo  edad  \\\n",
            "0      210295     2       21                           PUEBLA     2    38   \n",
            "1      101655     3       10                          DURANGO     2    11   \n",
            "2       10287     6        1                   AGUASCALIENTES     2    18   \n",
            "3       91526     4        9                 DISTRITO FEDERAL     1    10   \n",
            "4      210939     3       21                           PUEBLA     2    19   \n",
            "...       ...   ...      ...                              ...   ...   ...   \n",
            "18635  300116     2       30  VERACRUZ DE IGNACIO DE LA LLAVE     2    73   \n",
            "18636   40253     1        4                         CAMPECHE     2    75   \n",
            "18637  301099     1       30  VERACRUZ DE IGNACIO DE LA LLAVE     1    86   \n",
            "18638  250801     1       25                          SINALOA     2    72   \n",
            "18639   11786     2        1                   AGUASCALIENTES     2    71   \n",
            "\n",
            "       meses   peso  ropa   talla  ... hpresion tbrazo  htension  PrimaryLast  \\\n",
            "0          8  73.70     2  146.40  ...    16:30      2     16:35            1   \n",
            "1         11  35.65     2  145.10  ...    15:25      3     15:25            1   \n",
            "2          8  54.80     1  162.00  ...     9:40      1      9:40            1   \n",
            "3          8  33.40     2  146.50  ...     7:40      3      7:45            1   \n",
            "4          3  97.95     2  161.00  ...     6:00      2      6:00            1   \n",
            "...      ...    ...   ...     ...  ...      ...    ...       ...          ...   \n",
            "18635     11  75.80     1  141.15  ...    18:00      1     18:05            1   \n",
            "18636      0  69.40     1  144.80  ...    18:40      1     18:40            1   \n",
            "18637      7  46.75     2  149.20  ...     8:00      3     23:00            1   \n",
            "18638      7  59.05     2  142.50  ...     6:02      3      6:02            1   \n",
            "18639      8  80.00     2  150.65  ...    13:50      3     13:00            1   \n",
            "\n",
            "       code_upm  est_dis est_urb est_marg       pondef  est_var  \n",
            "0         R2101        5       3        1  3470.002176      215  \n",
            "1         M1041        1       1        1   417.946672      101  \n",
            "2         M0108        5       3        1   472.980811       15  \n",
            "3         M0931        4       3        2  1832.581391       94  \n",
            "4         M2123        5       3        1  7622.066564      215  \n",
            "...         ...      ...     ...      ...          ...      ...  \n",
            "18635     R3002        5       3        1  7615.607749      305  \n",
            "18636     M0408        5       3        1   195.314670       45  \n",
            "18637     M3024        2       1        2  1758.912979      302  \n",
            "18638     M2512        3       2        1  2354.581350      253  \n",
            "18639     M0143        2       1        2   591.847039       12  \n",
            "\n",
            "[18640 rows x 26 columns]\n"
          ]
        }
      ],
      "source": [
        "import pandas as pd\n",
        "\n",
        "data = pd.read_csv(r'/content/antropometria-dataset-2.csv')\n",
        "df = pd.DataFrame(data)\n",
        "\n",
        "print(df)"
      ]
    },
    {
      "cell_type": "code",
      "source": [
        "pd.pivot_table(df,\n",
        "               index = 'sexo',\n",
        "               values = 'peso',\n",
        "               columns = 'sexo',\n",
        "               aggfunc =  'median'\n",
        "               )"
      ],
      "metadata": {
        "colab": {
          "base_uri": "https://localhost:8080/",
          "height": 417
        },
        "id": "n4bHihHEoL9K",
        "outputId": "edfd959a-528f-4666-91fd-26e3b5af19e1"
      },
      "execution_count": null,
      "outputs": [
        {
          "output_type": "error",
          "ename": "ValueError",
          "evalue": "ignored",
          "traceback": [
            "\u001b[0;31m---------------------------------------------------------------------------\u001b[0m",
            "\u001b[0;31mValueError\u001b[0m                                Traceback (most recent call last)",
            "\u001b[0;32m<ipython-input-17-6d7c21e98d52>\u001b[0m in \u001b[0;36m<cell line: 1>\u001b[0;34m()\u001b[0m\n\u001b[0;32m----> 1\u001b[0;31m pd.pivot_table(df,\n\u001b[0m\u001b[1;32m      2\u001b[0m                \u001b[0mindex\u001b[0m \u001b[0;34m=\u001b[0m \u001b[0;34m'sexo'\u001b[0m\u001b[0;34m,\u001b[0m\u001b[0;34m\u001b[0m\u001b[0;34m\u001b[0m\u001b[0m\n\u001b[1;32m      3\u001b[0m                \u001b[0mvalues\u001b[0m \u001b[0;34m=\u001b[0m \u001b[0;34m'peso'\u001b[0m\u001b[0;34m,\u001b[0m\u001b[0;34m\u001b[0m\u001b[0;34m\u001b[0m\u001b[0m\n\u001b[1;32m      4\u001b[0m                \u001b[0mcolumns\u001b[0m \u001b[0;34m=\u001b[0m \u001b[0;34m'sexo'\u001b[0m\u001b[0;34m,\u001b[0m\u001b[0;34m\u001b[0m\u001b[0;34m\u001b[0m\u001b[0m\n\u001b[1;32m      5\u001b[0m                \u001b[0maggfunc\u001b[0m \u001b[0;34m=\u001b[0m  \u001b[0;34m'median'\u001b[0m\u001b[0;34m\u001b[0m\u001b[0;34m\u001b[0m\u001b[0m\n",
            "\u001b[0;32m/usr/local/lib/python3.10/dist-packages/pandas/core/reshape/pivot.py\u001b[0m in \u001b[0;36mpivot_table\u001b[0;34m(data, values, index, columns, aggfunc, fill_value, margins, dropna, margins_name, observed, sort)\u001b[0m\n\u001b[1;32m     95\u001b[0m         \u001b[0;32mreturn\u001b[0m \u001b[0mtable\u001b[0m\u001b[0;34m.\u001b[0m\u001b[0m__finalize__\u001b[0m\u001b[0;34m(\u001b[0m\u001b[0mdata\u001b[0m\u001b[0;34m,\u001b[0m \u001b[0mmethod\u001b[0m\u001b[0;34m=\u001b[0m\u001b[0;34m\"pivot_table\"\u001b[0m\u001b[0;34m)\u001b[0m\u001b[0;34m\u001b[0m\u001b[0;34m\u001b[0m\u001b[0m\n\u001b[1;32m     96\u001b[0m \u001b[0;34m\u001b[0m\u001b[0m\n\u001b[0;32m---> 97\u001b[0;31m     table = __internal_pivot_table(\n\u001b[0m\u001b[1;32m     98\u001b[0m         \u001b[0mdata\u001b[0m\u001b[0;34m,\u001b[0m\u001b[0;34m\u001b[0m\u001b[0;34m\u001b[0m\u001b[0m\n\u001b[1;32m     99\u001b[0m         \u001b[0mvalues\u001b[0m\u001b[0;34m,\u001b[0m\u001b[0;34m\u001b[0m\u001b[0;34m\u001b[0m\u001b[0m\n",
            "\u001b[0;32m/usr/local/lib/python3.10/dist-packages/pandas/core/reshape/pivot.py\u001b[0m in \u001b[0;36m__internal_pivot_table\u001b[0;34m(data, values, index, columns, aggfunc, fill_value, margins, dropna, margins_name, observed, sort)\u001b[0m\n\u001b[1;32m    164\u001b[0m         \u001b[0mvalues\u001b[0m \u001b[0;34m=\u001b[0m \u001b[0mlist\u001b[0m\u001b[0;34m(\u001b[0m\u001b[0mvalues\u001b[0m\u001b[0;34m)\u001b[0m\u001b[0;34m\u001b[0m\u001b[0;34m\u001b[0m\u001b[0m\n\u001b[1;32m    165\u001b[0m \u001b[0;34m\u001b[0m\u001b[0m\n\u001b[0;32m--> 166\u001b[0;31m     \u001b[0mgrouped\u001b[0m \u001b[0;34m=\u001b[0m \u001b[0mdata\u001b[0m\u001b[0;34m.\u001b[0m\u001b[0mgroupby\u001b[0m\u001b[0;34m(\u001b[0m\u001b[0mkeys\u001b[0m\u001b[0;34m,\u001b[0m \u001b[0mobserved\u001b[0m\u001b[0;34m=\u001b[0m\u001b[0mobserved\u001b[0m\u001b[0;34m,\u001b[0m \u001b[0msort\u001b[0m\u001b[0;34m=\u001b[0m\u001b[0msort\u001b[0m\u001b[0;34m)\u001b[0m\u001b[0;34m\u001b[0m\u001b[0;34m\u001b[0m\u001b[0m\n\u001b[0m\u001b[1;32m    167\u001b[0m     msg = (\n\u001b[1;32m    168\u001b[0m         \u001b[0;34m\"pivot_table dropped a column because it failed to aggregate. This behavior \"\u001b[0m\u001b[0;34m\u001b[0m\u001b[0;34m\u001b[0m\u001b[0m\n",
            "\u001b[0;32m/usr/local/lib/python3.10/dist-packages/pandas/core/frame.py\u001b[0m in \u001b[0;36mgroupby\u001b[0;34m(self, by, axis, level, as_index, sort, group_keys, squeeze, observed, dropna)\u001b[0m\n\u001b[1;32m   8400\u001b[0m         \u001b[0maxis\u001b[0m \u001b[0;34m=\u001b[0m \u001b[0mself\u001b[0m\u001b[0;34m.\u001b[0m\u001b[0m_get_axis_number\u001b[0m\u001b[0;34m(\u001b[0m\u001b[0maxis\u001b[0m\u001b[0;34m)\u001b[0m\u001b[0;34m\u001b[0m\u001b[0;34m\u001b[0m\u001b[0m\n\u001b[1;32m   8401\u001b[0m \u001b[0;34m\u001b[0m\u001b[0m\n\u001b[0;32m-> 8402\u001b[0;31m         return DataFrameGroupBy(\n\u001b[0m\u001b[1;32m   8403\u001b[0m             \u001b[0mobj\u001b[0m\u001b[0;34m=\u001b[0m\u001b[0mself\u001b[0m\u001b[0;34m,\u001b[0m\u001b[0;34m\u001b[0m\u001b[0;34m\u001b[0m\u001b[0m\n\u001b[1;32m   8404\u001b[0m             \u001b[0mkeys\u001b[0m\u001b[0;34m=\u001b[0m\u001b[0mby\u001b[0m\u001b[0;34m,\u001b[0m\u001b[0;34m\u001b[0m\u001b[0;34m\u001b[0m\u001b[0m\n",
            "\u001b[0;32m/usr/local/lib/python3.10/dist-packages/pandas/core/groupby/groupby.py\u001b[0m in \u001b[0;36m__init__\u001b[0;34m(self, obj, keys, axis, level, grouper, exclusions, selection, as_index, sort, group_keys, squeeze, observed, mutated, dropna)\u001b[0m\n\u001b[1;32m    963\u001b[0m             \u001b[0;32mfrom\u001b[0m \u001b[0mpandas\u001b[0m\u001b[0;34m.\u001b[0m\u001b[0mcore\u001b[0m\u001b[0;34m.\u001b[0m\u001b[0mgroupby\u001b[0m\u001b[0;34m.\u001b[0m\u001b[0mgrouper\u001b[0m \u001b[0;32mimport\u001b[0m \u001b[0mget_grouper\u001b[0m\u001b[0;34m\u001b[0m\u001b[0;34m\u001b[0m\u001b[0m\n\u001b[1;32m    964\u001b[0m \u001b[0;34m\u001b[0m\u001b[0m\n\u001b[0;32m--> 965\u001b[0;31m             grouper, exclusions, obj = get_grouper(\n\u001b[0m\u001b[1;32m    966\u001b[0m                 \u001b[0mobj\u001b[0m\u001b[0;34m,\u001b[0m\u001b[0;34m\u001b[0m\u001b[0;34m\u001b[0m\u001b[0m\n\u001b[1;32m    967\u001b[0m                 \u001b[0mkeys\u001b[0m\u001b[0;34m,\u001b[0m\u001b[0;34m\u001b[0m\u001b[0;34m\u001b[0m\u001b[0m\n",
            "\u001b[0;32m/usr/local/lib/python3.10/dist-packages/pandas/core/groupby/grouper.py\u001b[0m in \u001b[0;36mget_grouper\u001b[0;34m(obj, key, axis, level, sort, observed, mutated, validate, dropna)\u001b[0m\n\u001b[1;32m    881\u001b[0m                     \u001b[0;31m# non-unique columns; raise here to get the name in the\u001b[0m\u001b[0;34m\u001b[0m\u001b[0;34m\u001b[0m\u001b[0m\n\u001b[1;32m    882\u001b[0m                     \u001b[0;31m# exception message\u001b[0m\u001b[0;34m\u001b[0m\u001b[0;34m\u001b[0m\u001b[0m\n\u001b[0;32m--> 883\u001b[0;31m                     \u001b[0;32mraise\u001b[0m \u001b[0mValueError\u001b[0m\u001b[0;34m(\u001b[0m\u001b[0;34mf\"Grouper for '{name}' not 1-dimensional\"\u001b[0m\u001b[0;34m)\u001b[0m\u001b[0;34m\u001b[0m\u001b[0;34m\u001b[0m\u001b[0m\n\u001b[0m\u001b[1;32m    884\u001b[0m                 \u001b[0mexclusions\u001b[0m\u001b[0;34m.\u001b[0m\u001b[0madd\u001b[0m\u001b[0;34m(\u001b[0m\u001b[0mname\u001b[0m\u001b[0;34m)\u001b[0m\u001b[0;34m\u001b[0m\u001b[0;34m\u001b[0m\u001b[0m\n\u001b[1;32m    885\u001b[0m             \u001b[0;32melif\u001b[0m \u001b[0mobj\u001b[0m\u001b[0;34m.\u001b[0m\u001b[0m_is_level_reference\u001b[0m\u001b[0;34m(\u001b[0m\u001b[0mgpr\u001b[0m\u001b[0;34m,\u001b[0m \u001b[0maxis\u001b[0m\u001b[0;34m=\u001b[0m\u001b[0maxis\u001b[0m\u001b[0;34m)\u001b[0m\u001b[0;34m:\u001b[0m\u001b[0;34m\u001b[0m\u001b[0;34m\u001b[0m\u001b[0m\n",
            "\u001b[0;31mValueError\u001b[0m: Grouper for 'sexo' not 1-dimensional"
          ]
        }
      ]
    },
    {
      "cell_type": "code",
      "source": [
        "pd.pivot_table(df,\n",
        "               index = 'sexo',\n",
        "               values = 'peso',\n",
        "               aggfunc =  'mean'\n",
        "               )"
      ],
      "metadata": {
        "id": "aKx-SAn0daYa"
      },
      "execution_count": null,
      "outputs": []
    },
    {
      "cell_type": "code",
      "source": [
        "pd.pivot_table(df,\n",
        "               index = 'desc_ent',\n",
        "               values = 'peso',\n",
        "               aggfunc = 'mean')"
      ],
      "metadata": {
        "id": "YVNAYAtudZEW"
      },
      "execution_count": null,
      "outputs": []
    },
    {
      "cell_type": "code",
      "source": [
        "pd.pivot_table(df,\n",
        "               index = 'desc_ent',\n",
        "               values = 'peso',\n",
        "               columns = 'sexo',\n",
        "               aggfunc = 'median')"
      ],
      "metadata": {
        "id": "bxQOyC5s792o"
      },
      "execution_count": null,
      "outputs": []
    },
    {
      "cell_type": "code",
      "source": [
        "df.plot.line('cintura')\n"
      ],
      "metadata": {
        "id": "RwCejX_nAaar"
      },
      "execution_count": null,
      "outputs": []
    },
    {
      "cell_type": "code",
      "source": [
        "df['peso'].plot(kind = 'box',\n",
        "          #whis = (0, 100),\n",
        "          #showfliers = False,\n",
        "               figsize = (8, 5),\n",
        "               vert = False,\n",
        "               color = 'r',\n",
        ")"
      ],
      "metadata": {
        "id": "Zr5Cb9H271-M"
      },
      "execution_count": null,
      "outputs": []
    },
    {
      "cell_type": "code",
      "source": [
        "pd.pivot_table(df,\n",
        "               index = 'desc_ent',\n",
        "               values = 'peso',\n",
        "               columns = 'sexo',\n",
        "               aggfunc = 'mean')"
      ],
      "metadata": {
        "id": "NHiw2ibE_AUS"
      },
      "execution_count": null,
      "outputs": []
    },
    {
      "cell_type": "code",
      "source": [
        "path = '/adult (1).csv'"
      ],
      "metadata": {
        "id": "_UJ6dK9d_sz3"
      },
      "execution_count": null,
      "outputs": []
    },
    {
      "cell_type": "code",
      "source": [
        "import pandas as pd\n",
        "\n",
        "data = pd.read_csv(r'/adult (1).csv')\n",
        "df = pd.DataFrame(data)\n"
      ],
      "metadata": {
        "id": "WwlwogtJ_88Y"
      },
      "execution_count": null,
      "outputs": []
    },
    {
      "cell_type": "code",
      "source": [
        "pd.pivot_table(df,\n",
        "               index = 'marital-status',\n",
        "               values = 'age',\n",
        "               columns = ['sex', 'education'],\n",
        "               aggfunc = 'median')"
      ],
      "metadata": {
        "id": "BE9IrNP3AXqy"
      },
      "execution_count": null,
      "outputs": []
    },
    {
      "cell_type": "code",
      "source": [
        "pd.pivot_table(df,\n",
        "               index = 'marital-status',\n",
        "               values = 'age',\n",
        "               columns = 'education',\n",
        "               aggfunc = 'mean')"
      ],
      "metadata": {
        "id": "r7tMZH_rBcNt"
      },
      "execution_count": null,
      "outputs": []
    }
  ]
}